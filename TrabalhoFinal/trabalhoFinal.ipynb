{
 "cells": [
  {
   "cell_type": "code",
   "execution_count": 1,
   "metadata": {},
   "outputs": [],
   "source": [
    "import cv2\n",
    "import numpy as np"
   ]
  },
  {
   "cell_type": "code",
   "execution_count": 15,
   "metadata": {},
   "outputs": [],
   "source": [
    "#imgRGB = cv2.imread(\"Screenshot_3.png\", cv2.IMREAD_UNCHANGED)\n",
    "#imgHSV = cv2.cvtColor(imgRGB, cv2.COLOR_BGR2HSV)\n",
    "\n",
    "cap = cv2.VideoCapture('sabrePDIcortado.mp4')\n",
    "\n",
    "width= int(cap.get(cv2.CAP_PROP_FRAME_WIDTH))\n",
    "height= int(cap.get(cv2.CAP_PROP_FRAME_HEIGHT))\n",
    "\n",
    "out = cv2.VideoWriter('sabreFinalPDI23.mp4', cv2.VideoWriter_fourcc(*'DIVX'), 30, (width,height))\n",
    "\n",
    "while cap.isOpened():\n",
    "    ret, frame = cap.read()\n",
    "    \n",
    "    if not ret:\n",
    "        print(\"Can't receive frame (stream end?). Exiting ...\")\n",
    "        break    \n",
    "        \n",
    "    frameHSV = cv2.cvtColor(frame, cv2.COLOR_BGR2HSV)\n",
    "    \n",
    "    #Segmentação da parte azul(cabo)\n",
    "    tomClaro = np.array([80,100,100])\n",
    "    tomEscuro = np.array([140,255,255])\n",
    "    imgSegmentada = cv2.inRange(frameHSV,tomClaro, tomEscuro)\n",
    "\n",
    "    #Dilatação\n",
    "    kernel = np.ones((5,5), np.uint8)\n",
    "    dilation = cv2.dilate(imgSegmentada, kernel, iterations = 2)\n",
    "\n",
    "    #Filtro mediana\n",
    "    imgTratada  = cv2.medianBlur(dilation, 19)\n",
    "\n",
    "    #Aplicando GaussianBlur\n",
    "    blur = cv2.GaussianBlur(imgTratada,(81,81),0)\n",
    "\n",
    "    #Misturando imagens\n",
    "    frame[:,:,0] = cv2.add(frame[:,:,0],imgTratada)\n",
    "    frame[:,:,1] = cv2.add(frame[:,:,1],imgTratada)\n",
    "    frame[:,:,2] = cv2.add(frame[:,:,2],blur)\n",
    "    frame[:,:,2] = cv2.add(frame[:,:,2],imgTratada)\n",
    "    \n",
    "    out.write(frame)\n",
    "    cv2.imshow(\"Frame\", frame)\n",
    "    \n",
    "    if cv2.waitKey(1) == ord('q'):\n",
    "        break\n",
    "        \n",
    "cap.release()\n",
    "out.release()\n",
    "cv2.destroyAllWindows()"
   ]
  },
  {
   "cell_type": "code",
   "execution_count": null,
   "metadata": {},
   "outputs": [],
   "source": []
  }
 ],
 "metadata": {
  "kernelspec": {
   "display_name": "Python 3",
   "language": "python",
   "name": "python3"
  },
  "language_info": {
   "codemirror_mode": {
    "name": "ipython",
    "version": 3
   },
   "file_extension": ".py",
   "mimetype": "text/x-python",
   "name": "python",
   "nbconvert_exporter": "python",
   "pygments_lexer": "ipython3",
   "version": "3.8.5"
  }
 },
 "nbformat": 4,
 "nbformat_minor": 4
}
