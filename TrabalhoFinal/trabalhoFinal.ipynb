{
 "cells": [
  {
   "cell_type": "code",
   "execution_count": 2,
   "metadata": {},
   "outputs": [],
   "source": [
    "import cv2\n",
    "import numpy as np"
   ]
  },
  {
   "cell_type": "code",
   "execution_count": 30,
   "metadata": {},
   "outputs": [],
   "source": [
    "imgRGB = cv2.imread(\"corteVideo2.png\", cv2.IMREAD_UNCHANGED)\n",
    "imgHSV = cv2.cvtColor(imgRGB, cv2.COLOR_BGR2HSV)\n",
    "\n",
    "#Resize imagem\n",
    "scale_percent = 60 # percent of original size\n",
    "width = int(imgRGB.shape[1] * scale_percent / 100)\n",
    "height = int(imgRGB.shape[0] * scale_percent / 100)\n",
    "dim = (width, height)\n",
    "\n",
    "resized = cv2.resize(imgRGB, dim, interpolation = cv2.INTER_AREA)\n",
    "\n",
    "#Segmentação da parte azul(cabo)\n",
    "tomClaro = np.array([100,100,100])\n",
    "tomEscuro = np.array([140,255,255])\n",
    "imgSegmentada = cv2.inRange(imgHSV,tomClaro, tomEscuro)\n",
    "resizedImgSeg = cv2.resize(imgSegmentada, dim, interpolation = cv2.INTER_AREA)\n",
    "\n",
    "#Dilatação\n",
    "kernel = np.ones((5,5), np.uint8)\n",
    "dilation = cv2.dilate(imgSegmentada, kernel, iterations = 2)\n",
    "resizedImgDil = cv2.resize(dilation, dim, interpolation = cv2.INTER_AREA)\n",
    "\n",
    "#Filtro mediana\n",
    "imgTratada  = cv2.medianBlur(dilation, 35)\n",
    "resizedImgTrat = cv2.resize(imgTratada, dim, interpolation = cv2.INTER_AREA)\n",
    "\n",
    "cv2.imshow(\"Imagem Original\", resized)\n",
    "cv2.imshow(\"Foto\", resizedImgSeg)\n",
    "cv2.imshow(\"Dilatada\", resizedImgDil)\n",
    "cv2.imshow(\"Filtro Mediana\", resizedImgTrat)\n",
    "\n",
    "cv2.waitKey(0)\n",
    "cv2.destroyAllWindows()"
   ]
  },
  {
   "cell_type": "code",
   "execution_count": null,
   "metadata": {},
   "outputs": [],
   "source": []
  }
 ],
 "metadata": {
  "kernelspec": {
   "display_name": "Python 3",
   "language": "python",
   "name": "python3"
  },
  "language_info": {
   "codemirror_mode": {
    "name": "ipython",
    "version": 3
   },
   "file_extension": ".py",
   "mimetype": "text/x-python",
   "name": "python",
   "nbconvert_exporter": "python",
   "pygments_lexer": "ipython3",
   "version": "3.8.5"
  }
 },
 "nbformat": 4,
 "nbformat_minor": 4
}
