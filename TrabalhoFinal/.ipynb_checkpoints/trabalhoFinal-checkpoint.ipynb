{
 "cells": [
  {
   "cell_type": "code",
   "execution_count": 2,
   "metadata": {},
   "outputs": [],
   "source": [
    "import cv2\n",
    "import numpy as np"
   ]
  },
  {
   "cell_type": "code",
   "execution_count": 12,
   "metadata": {},
   "outputs": [
    {
     "name": "stdout",
     "output_type": "stream",
     "text": [
      "Can't receive frame (stream end?). Exiting ...\n"
     ]
    }
   ],
   "source": [
    "#imgRGB = cv2.imread(\"Screenshot_3.png\", cv2.IMREAD_UNCHANGED)\n",
    "#imgHSV = cv2.cvtColor(imgRGB, cv2.COLOR_BGR2HSV)\n",
    "\n",
    "#resized = cv2.resize(imgRGB, (300,400))\n",
    "fourcc = cv2.VideoWriter_fourcc(*'DIVX')\n",
    "out = cv2.VideoWriter('output.avi', fourcc, 20.0, (640,  480))\n",
    "\n",
    "cap = cv2.VideoCapture('resizedVideo.mp4')\n",
    "while cap.isOpened():\n",
    "    ret, frame = cap.read()\n",
    "    if not ret:\n",
    "        print(\"Can't receive frame (stream end?). Exiting ...\")\n",
    "        break\n",
    "        \n",
    "    frameHSV = cv2.cvtColor(frame, cv2.COLOR_BGR2HSV)\n",
    "    #Segmentação da parte azul(cabo)\n",
    "    tomClaro = np.array([100,100,100])\n",
    "    tomEscuro = np.array([140,255,255])\n",
    "    imgSegmentada = cv2.inRange(frameHSV,tomClaro, tomEscuro)\n",
    "    #resizedImgSeg = cv2.resize(imgSegmentada, (300,400))\n",
    "\n",
    "    #Dilatação\n",
    "    kernel = np.ones((5,5), np.uint8)\n",
    "    dilation = cv2.dilate(imgSegmentada, kernel, iterations = 2)\n",
    "    #resizedImgDil = cv2.resize(dilation, (300,400))\n",
    "\n",
    "    #Filtro mediana\n",
    "    imgTratada  = cv2.medianBlur(dilation, 35)\n",
    "    #resizedImgTrat = cv2.resize(imgTratada, (300,400))\n",
    "\n",
    "    #Aplicando GaussianBlur\n",
    "    blur = cv2.GaussianBlur(imgTratada,(71,71),0)\n",
    "    #resizedImgBlur = cv2.resize(blur, (300,400))\n",
    "\n",
    "    #Misturando imagens\n",
    "    frame[:,:,0] = cv2.add(frame[:,:,0],imgTratada)\n",
    "    frame[:,:,1] = cv2.add(frame[:,:,1],imgTratada)\n",
    "    frame[:,:,2] = cv2.add(frame[:,:,2],blur)\n",
    "    frame[:,:,2] = cv2.add(frame[:,:,2],imgTratada)\n",
    "    \n",
    "    cv2.imshow(\"Frame\", frame)\n",
    "    \n",
    "    if cv2.waitKey(1) == ord('q'):\n",
    "        break\n",
    "\n",
    "#cv2.imshow(\"Imagem Original\", resized)\n",
    "#cv2.imshow(\"Foto\", resizedImgSeg)\n",
    "#cv2.imshow(\"Dilatada\", resizedImgDil)\n",
    "#cv2.imshow(\"Filtro Mediana\", resizedImgTrat)\n",
    "#cv2.imshow(\"Blur\", resizedImgBlur)\n",
    "#cv2.imshow(\"Final\", imgRGB)\n",
    "cap.release()\n",
    "out.release()\n",
    "cv2.destroyAllWindows()"
   ]
  },
  {
   "cell_type": "code",
   "execution_count": null,
   "metadata": {},
   "outputs": [],
   "source": []
  }
 ],
 "metadata": {
  "kernelspec": {
   "display_name": "Python 3",
   "language": "python",
   "name": "python3"
  },
  "language_info": {
   "codemirror_mode": {
    "name": "ipython",
    "version": 3
   },
   "file_extension": ".py",
   "mimetype": "text/x-python",
   "name": "python",
   "nbconvert_exporter": "python",
   "pygments_lexer": "ipython3",
   "version": "3.8.5"
  }
 },
 "nbformat": 4,
 "nbformat_minor": 4
}
